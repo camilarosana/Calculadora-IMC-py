{
 "cells": [
  {
   "cell_type": "markdown",
   "id": "45bacc0f",
   "metadata": {},
   "source": [
    "                                           CALCULADORA DE IMC"
   ]
  },
  {
   "cell_type": "code",
   "execution_count": null,
   "id": "e4b51b59",
   "metadata": {},
   "outputs": [],
   "source": [
    "peso = float(input(\"Qual o seu peso? \"))\n",
    "altura = float(input(\"Qual a sua altura? \"))\n",
    "imc = peso / (altura * altura)\n",
    "print(imc)\n",
    "if imc>0:\n",
    "    if (imc<18.5):\n",
    "        print(\"Você está abaixo do peso.\")\n",
    "    elif (imc<=24.9):\n",
    "        print(\"Você está com o peso ideal.\")\n",
    "    elif (imc<=29.9):\n",
    "        print(\"Você está acima do peso.\")\n",
    "    elif (imc<=34.9):\n",
    "        print(\"Você está obeso.\")\n",
    "    elif (imc<=39.9):\n",
    "        print(\"Você está com obesidade severa.\")\n",
    "    elif (imc>40):\n",
    "        print(\"Você está com obesidade mórbida!\")"
   ]
  },
  {
   "cell_type": "code",
   "execution_count": null,
   "id": "7af4e745",
   "metadata": {},
   "outputs": [],
   "source": []
  },
  {
   "cell_type": "code",
   "execution_count": null,
   "id": "5ee3bbdb",
   "metadata": {},
   "outputs": [],
   "source": []
  },
  {
   "cell_type": "code",
   "execution_count": null,
   "id": "d703fc22",
   "metadata": {},
   "outputs": [],
   "source": []
  },
  {
   "cell_type": "code",
   "execution_count": null,
   "id": "d224c0f5",
   "metadata": {},
   "outputs": [],
   "source": []
  },
  {
   "cell_type": "code",
   "execution_count": null,
   "id": "f0ffac78",
   "metadata": {},
   "outputs": [],
   "source": []
  },
  {
   "cell_type": "code",
   "execution_count": null,
   "id": "5bfc9b8d",
   "metadata": {},
   "outputs": [],
   "source": []
  },
  {
   "cell_type": "code",
   "execution_count": null,
   "id": "de6f7153",
   "metadata": {},
   "outputs": [],
   "source": []
  },
  {
   "cell_type": "code",
   "execution_count": null,
   "id": "e7a156bb",
   "metadata": {},
   "outputs": [],
   "source": []
  },
  {
   "cell_type": "code",
   "execution_count": null,
   "id": "3d144c1e",
   "metadata": {},
   "outputs": [],
   "source": []
  },
  {
   "cell_type": "code",
   "execution_count": null,
   "id": "f7ce53e3",
   "metadata": {},
   "outputs": [],
   "source": []
  },
  {
   "cell_type": "code",
   "execution_count": null,
   "id": "e143d7b0",
   "metadata": {},
   "outputs": [],
   "source": []
  },
  {
   "cell_type": "code",
   "execution_count": null,
   "id": "73b27b07",
   "metadata": {},
   "outputs": [],
   "source": []
  },
  {
   "cell_type": "code",
   "execution_count": null,
   "id": "629cc281",
   "metadata": {},
   "outputs": [],
   "source": []
  },
  {
   "cell_type": "code",
   "execution_count": null,
   "id": "1e875a4a",
   "metadata": {},
   "outputs": [],
   "source": []
  },
  {
   "cell_type": "code",
   "execution_count": null,
   "id": "4a9c9d76",
   "metadata": {},
   "outputs": [],
   "source": []
  },
  {
   "cell_type": "code",
   "execution_count": null,
   "id": "388b1891",
   "metadata": {},
   "outputs": [],
   "source": []
  },
  {
   "cell_type": "code",
   "execution_count": null,
   "id": "cb4f136e",
   "metadata": {},
   "outputs": [],
   "source": []
  }
 ],
 "metadata": {
  "kernelspec": {
   "display_name": "Python 3 (ipykernel)",
   "language": "python",
   "name": "python3"
  },
  "language_info": {
   "codemirror_mode": {
    "name": "ipython",
    "version": 3
   },
   "file_extension": ".py",
   "mimetype": "text/x-python",
   "name": "python",
   "nbconvert_exporter": "python",
   "pygments_lexer": "ipython3",
   "version": "3.9.13"
  }
 },
 "nbformat": 4,
 "nbformat_minor": 5
}
